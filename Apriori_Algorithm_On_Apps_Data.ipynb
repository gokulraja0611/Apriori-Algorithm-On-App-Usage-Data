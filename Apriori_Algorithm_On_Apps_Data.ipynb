{
  "nbformat": 4,
  "nbformat_minor": 0,
  "metadata": {
    "colab": {
      "name": "Apriori Algorithm On  Apps Data.ipynb",
      "provenance": [],
      "collapsed_sections": []
    },
    "kernelspec": {
      "name": "python3",
      "display_name": "Python 3"
    },
    "language_info": {
      "name": "python"
    }
  },
  "cells": [
    {
      "cell_type": "markdown",
      "metadata": {
        "id": "CPkauOYAiJI4"
      },
      "source": [
        "##Importing Libraries"
      ]
    },
    {
      "cell_type": "code",
      "metadata": {
        "id": "Du-TUdc-UkLT"
      },
      "source": [
        "import numpy as np\n",
        "import pandas as pd\n",
        "import matplotlib.pyplot as plt\n",
        "import seaborn as sns"
      ],
      "execution_count": 138,
      "outputs": []
    },
    {
      "cell_type": "markdown",
      "metadata": {
        "id": "gYSQJOsLiTI9"
      },
      "source": [
        "##Importing Raw Data"
      ]
    },
    {
      "cell_type": "code",
      "metadata": {
        "colab": {
          "base_uri": "https://localhost:8080/",
          "height": 1000
        },
        "id": "K01dR43xWAIC",
        "outputId": "c25a30ff-21c3-40f9-d727-22d8c771c270"
      },
      "source": [
        "data = pd.read_csv('/content/apriori_data.csv')\n",
        "data"
      ],
      "execution_count": 139,
      "outputs": [
        {
          "output_type": "execute_result",
          "data": {
            "text/html": [
              "<div>\n",
              "<style scoped>\n",
              "    .dataframe tbody tr th:only-of-type {\n",
              "        vertical-align: middle;\n",
              "    }\n",
              "\n",
              "    .dataframe tbody tr th {\n",
              "        vertical-align: top;\n",
              "    }\n",
              "\n",
              "    .dataframe thead th {\n",
              "        text-align: right;\n",
              "    }\n",
              "</style>\n",
              "<table border=\"1\" class=\"dataframe\">\n",
              "  <thead>\n",
              "    <tr style=\"text-align: right;\">\n",
              "      <th></th>\n",
              "      <th>AppName</th>\n",
              "    </tr>\n",
              "  </thead>\n",
              "  <tbody>\n",
              "    <tr>\n",
              "      <th>0</th>\n",
              "      <td>Whatsapp,Youtube,Meet,Amazon,Instagram</td>\n",
              "    </tr>\n",
              "    <tr>\n",
              "      <th>1</th>\n",
              "      <td>Discord,Netflix,Instagram,Spotify</td>\n",
              "    </tr>\n",
              "    <tr>\n",
              "      <th>2</th>\n",
              "      <td>Whatsapp,Youtube,Zoom,Netflix,Facebook,SnapCha...</td>\n",
              "    </tr>\n",
              "    <tr>\n",
              "      <th>3</th>\n",
              "      <td>Whatsapp,Youtube,Meet</td>\n",
              "    </tr>\n",
              "    <tr>\n",
              "      <th>4</th>\n",
              "      <td>Whatsapp,Youtube,Meet,Netflix,Instagram</td>\n",
              "    </tr>\n",
              "    <tr>\n",
              "      <th>5</th>\n",
              "      <td>Youtube,Meet,SnapChat,Instagram,Spotify</td>\n",
              "    </tr>\n",
              "    <tr>\n",
              "      <th>6</th>\n",
              "      <td>Whatsapp,Youtube,Meet,SnapChat,Instagram</td>\n",
              "    </tr>\n",
              "    <tr>\n",
              "      <th>7</th>\n",
              "      <td>Whatsapp,Youtube,Zoom,Netflix,SnapChat,Instagram</td>\n",
              "    </tr>\n",
              "    <tr>\n",
              "      <th>8</th>\n",
              "      <td>Whatsapp,Youtube,Meet,Netflix,Facebook,Amazon ...</td>\n",
              "    </tr>\n",
              "    <tr>\n",
              "      <th>9</th>\n",
              "      <td>Whatsapp,Youtube,Meet,Netflix,Instagram</td>\n",
              "    </tr>\n",
              "    <tr>\n",
              "      <th>10</th>\n",
              "      <td>Whatsapp,Youtube,SnapChat,Instagram,Spotify</td>\n",
              "    </tr>\n",
              "    <tr>\n",
              "      <th>11</th>\n",
              "      <td>Whatsapp,Youtube,Twitter,Pinterest,Spotify</td>\n",
              "    </tr>\n",
              "    <tr>\n",
              "      <th>12</th>\n",
              "      <td>Whatsapp,Youtube,Twitter,Meet,Instagram</td>\n",
              "    </tr>\n",
              "    <tr>\n",
              "      <th>13</th>\n",
              "      <td>Whatsapp,Youtube,Meet,Netflix,Instagram</td>\n",
              "    </tr>\n",
              "    <tr>\n",
              "      <th>14</th>\n",
              "      <td>Whatsapp,Youtube,Facebook,Amazon,Instagram</td>\n",
              "    </tr>\n",
              "    <tr>\n",
              "      <th>15</th>\n",
              "      <td>Whatsapp,Youtube,Twitter,Meet,Spotify</td>\n",
              "    </tr>\n",
              "    <tr>\n",
              "      <th>16</th>\n",
              "      <td>Whatsapp,Youtube,Netflix,SnapChat,Instagram</td>\n",
              "    </tr>\n",
              "    <tr>\n",
              "      <th>17</th>\n",
              "      <td>Whatsapp,Youtube,Meet,Facebook,Wynk</td>\n",
              "    </tr>\n",
              "    <tr>\n",
              "      <th>18</th>\n",
              "      <td>Whatsapp,Youtube,Discord,Meet</td>\n",
              "    </tr>\n",
              "    <tr>\n",
              "      <th>19</th>\n",
              "      <td>Whatsapp,Youtube,Twitter</td>\n",
              "    </tr>\n",
              "    <tr>\n",
              "      <th>20</th>\n",
              "      <td>Whatsapp,Youtube,Zoom,Hotstar,Amazon</td>\n",
              "    </tr>\n",
              "    <tr>\n",
              "      <th>21</th>\n",
              "      <td>Whatsapp,Youtube,Meet,Spotify</td>\n",
              "    </tr>\n",
              "    <tr>\n",
              "      <th>22</th>\n",
              "      <td>Whatsapp,Youtube,Meet,Amazon Prime,Instagram</td>\n",
              "    </tr>\n",
              "    <tr>\n",
              "      <th>23</th>\n",
              "      <td>Whatsapp,Youtube,Facebook,Instagram</td>\n",
              "    </tr>\n",
              "    <tr>\n",
              "      <th>24</th>\n",
              "      <td>Youtube,Meet,SnapChat,Amazon,Instagram</td>\n",
              "    </tr>\n",
              "    <tr>\n",
              "      <th>25</th>\n",
              "      <td>Whatsapp,Youtube,Pinterest,Amazon,Instagram</td>\n",
              "    </tr>\n",
              "    <tr>\n",
              "      <th>26</th>\n",
              "      <td>Whatsapp,Youtube,Twitter,Meet,Zoom,Facebook</td>\n",
              "    </tr>\n",
              "    <tr>\n",
              "      <th>27</th>\n",
              "      <td>Whatsapp,Youtube,Meet,Amazon Prime,Instagram</td>\n",
              "    </tr>\n",
              "    <tr>\n",
              "      <th>28</th>\n",
              "      <td>Whatsapp,Youtube,Meet,SnapChat,Amazon,Amazon P...</td>\n",
              "    </tr>\n",
              "    <tr>\n",
              "      <th>29</th>\n",
              "      <td>Whatsapp,Youtube,Meet,Amazon,Instagram</td>\n",
              "    </tr>\n",
              "    <tr>\n",
              "      <th>30</th>\n",
              "      <td>Meet,SnapChat,Instagram,Spotify</td>\n",
              "    </tr>\n",
              "  </tbody>\n",
              "</table>\n",
              "</div>"
            ],
            "text/plain": [
              "                                              AppName\n",
              "0              Whatsapp,Youtube,Meet,Amazon,Instagram\n",
              "1                   Discord,Netflix,Instagram,Spotify\n",
              "2   Whatsapp,Youtube,Zoom,Netflix,Facebook,SnapCha...\n",
              "3                               Whatsapp,Youtube,Meet\n",
              "4             Whatsapp,Youtube,Meet,Netflix,Instagram\n",
              "5             Youtube,Meet,SnapChat,Instagram,Spotify\n",
              "6            Whatsapp,Youtube,Meet,SnapChat,Instagram\n",
              "7    Whatsapp,Youtube,Zoom,Netflix,SnapChat,Instagram\n",
              "8   Whatsapp,Youtube,Meet,Netflix,Facebook,Amazon ...\n",
              "9             Whatsapp,Youtube,Meet,Netflix,Instagram\n",
              "10        Whatsapp,Youtube,SnapChat,Instagram,Spotify\n",
              "11         Whatsapp,Youtube,Twitter,Pinterest,Spotify\n",
              "12            Whatsapp,Youtube,Twitter,Meet,Instagram\n",
              "13            Whatsapp,Youtube,Meet,Netflix,Instagram\n",
              "14         Whatsapp,Youtube,Facebook,Amazon,Instagram\n",
              "15              Whatsapp,Youtube,Twitter,Meet,Spotify\n",
              "16        Whatsapp,Youtube,Netflix,SnapChat,Instagram\n",
              "17                Whatsapp,Youtube,Meet,Facebook,Wynk\n",
              "18                      Whatsapp,Youtube,Discord,Meet\n",
              "19                           Whatsapp,Youtube,Twitter\n",
              "20               Whatsapp,Youtube,Zoom,Hotstar,Amazon\n",
              "21                      Whatsapp,Youtube,Meet,Spotify\n",
              "22       Whatsapp,Youtube,Meet,Amazon Prime,Instagram\n",
              "23                Whatsapp,Youtube,Facebook,Instagram\n",
              "24             Youtube,Meet,SnapChat,Amazon,Instagram\n",
              "25        Whatsapp,Youtube,Pinterest,Amazon,Instagram\n",
              "26        Whatsapp,Youtube,Twitter,Meet,Zoom,Facebook\n",
              "27       Whatsapp,Youtube,Meet,Amazon Prime,Instagram\n",
              "28  Whatsapp,Youtube,Meet,SnapChat,Amazon,Amazon P...\n",
              "29             Whatsapp,Youtube,Meet,Amazon,Instagram\n",
              "30                    Meet,SnapChat,Instagram,Spotify"
            ]
          },
          "metadata": {},
          "execution_count": 139
        }
      ]
    },
    {
      "cell_type": "markdown",
      "metadata": {
        "id": "E-U7TkkEifYg"
      },
      "source": [
        "##Convert and split the data(String) into the lists format"
      ]
    },
    {
      "cell_type": "code",
      "metadata": {
        "id": "Vr4ZBG-3XSiY"
      },
      "source": [
        "df = list(data[\"AppName\"].apply(lambda x:x.split(',')))\n",
        "data=pd.DataFrame(df)"
      ],
      "execution_count": 140,
      "outputs": []
    },
    {
      "cell_type": "markdown",
      "metadata": {
        "id": "Yap5p_oYivEe"
      },
      "source": [
        "##Creating DataFrame"
      ]
    },
    {
      "cell_type": "code",
      "metadata": {
        "id": "DLbd7AO1X17C"
      },
      "source": [
        "data1=pd.DataFrame(data)"
      ],
      "execution_count": 141,
      "outputs": []
    },
    {
      "cell_type": "markdown",
      "metadata": {
        "id": "K0J5G3JG1PoK"
      },
      "source": [
        "# EDA - Exploratory Data Analysis"
      ]
    },
    {
      "cell_type": "code",
      "metadata": {
        "colab": {
          "base_uri": "https://localhost:8080/",
          "height": 206
        },
        "id": "U_uqFxGL1RBA",
        "outputId": "fa2f6950-958f-448c-c11d-fbc30095fb74"
      },
      "source": [
        "#Displaying the First Rows\n",
        "data1.head()"
      ],
      "execution_count": 142,
      "outputs": [
        {
          "output_type": "execute_result",
          "data": {
            "text/html": [
              "<div>\n",
              "<style scoped>\n",
              "    .dataframe tbody tr th:only-of-type {\n",
              "        vertical-align: middle;\n",
              "    }\n",
              "\n",
              "    .dataframe tbody tr th {\n",
              "        vertical-align: top;\n",
              "    }\n",
              "\n",
              "    .dataframe thead th {\n",
              "        text-align: right;\n",
              "    }\n",
              "</style>\n",
              "<table border=\"1\" class=\"dataframe\">\n",
              "  <thead>\n",
              "    <tr style=\"text-align: right;\">\n",
              "      <th></th>\n",
              "      <th>0</th>\n",
              "      <th>1</th>\n",
              "      <th>2</th>\n",
              "      <th>3</th>\n",
              "      <th>4</th>\n",
              "      <th>5</th>\n",
              "      <th>6</th>\n",
              "      <th>7</th>\n",
              "      <th>8</th>\n",
              "      <th>9</th>\n",
              "    </tr>\n",
              "  </thead>\n",
              "  <tbody>\n",
              "    <tr>\n",
              "      <th>0</th>\n",
              "      <td>Whatsapp</td>\n",
              "      <td>Youtube</td>\n",
              "      <td>Meet</td>\n",
              "      <td>Amazon</td>\n",
              "      <td>Instagram</td>\n",
              "      <td>None</td>\n",
              "      <td>None</td>\n",
              "      <td>None</td>\n",
              "      <td>None</td>\n",
              "      <td>None</td>\n",
              "    </tr>\n",
              "    <tr>\n",
              "      <th>1</th>\n",
              "      <td>Discord</td>\n",
              "      <td>Netflix</td>\n",
              "      <td>Instagram</td>\n",
              "      <td>Spotify</td>\n",
              "      <td>None</td>\n",
              "      <td>None</td>\n",
              "      <td>None</td>\n",
              "      <td>None</td>\n",
              "      <td>None</td>\n",
              "      <td>None</td>\n",
              "    </tr>\n",
              "    <tr>\n",
              "      <th>2</th>\n",
              "      <td>Whatsapp</td>\n",
              "      <td>Youtube</td>\n",
              "      <td>Zoom</td>\n",
              "      <td>Netflix</td>\n",
              "      <td>Facebook</td>\n",
              "      <td>SnapChat</td>\n",
              "      <td>Amazon</td>\n",
              "      <td>Amazon Prime</td>\n",
              "      <td>Instagram</td>\n",
              "      <td>Spotify</td>\n",
              "    </tr>\n",
              "    <tr>\n",
              "      <th>3</th>\n",
              "      <td>Whatsapp</td>\n",
              "      <td>Youtube</td>\n",
              "      <td>Meet</td>\n",
              "      <td>None</td>\n",
              "      <td>None</td>\n",
              "      <td>None</td>\n",
              "      <td>None</td>\n",
              "      <td>None</td>\n",
              "      <td>None</td>\n",
              "      <td>None</td>\n",
              "    </tr>\n",
              "    <tr>\n",
              "      <th>4</th>\n",
              "      <td>Whatsapp</td>\n",
              "      <td>Youtube</td>\n",
              "      <td>Meet</td>\n",
              "      <td>Netflix</td>\n",
              "      <td>Instagram</td>\n",
              "      <td>None</td>\n",
              "      <td>None</td>\n",
              "      <td>None</td>\n",
              "      <td>None</td>\n",
              "      <td>None</td>\n",
              "    </tr>\n",
              "  </tbody>\n",
              "</table>\n",
              "</div>"
            ],
            "text/plain": [
              "          0        1          2  ...             7          8        9\n",
              "0  Whatsapp  Youtube       Meet  ...          None       None     None\n",
              "1   Discord  Netflix  Instagram  ...          None       None     None\n",
              "2  Whatsapp  Youtube       Zoom  ...  Amazon Prime  Instagram  Spotify\n",
              "3  Whatsapp  Youtube       Meet  ...          None       None     None\n",
              "4  Whatsapp  Youtube       Meet  ...          None       None     None\n",
              "\n",
              "[5 rows x 10 columns]"
            ]
          },
          "metadata": {},
          "execution_count": 142
        }
      ]
    },
    {
      "cell_type": "code",
      "metadata": {
        "colab": {
          "base_uri": "https://localhost:8080/",
          "height": 206
        },
        "id": "klctChPV1RDn",
        "outputId": "41ae4c8c-af00-458b-ed61-12a02c4da235"
      },
      "source": [
        "#Displaying the First Rows\n",
        "data1.tail()"
      ],
      "execution_count": 143,
      "outputs": [
        {
          "output_type": "execute_result",
          "data": {
            "text/html": [
              "<div>\n",
              "<style scoped>\n",
              "    .dataframe tbody tr th:only-of-type {\n",
              "        vertical-align: middle;\n",
              "    }\n",
              "\n",
              "    .dataframe tbody tr th {\n",
              "        vertical-align: top;\n",
              "    }\n",
              "\n",
              "    .dataframe thead th {\n",
              "        text-align: right;\n",
              "    }\n",
              "</style>\n",
              "<table border=\"1\" class=\"dataframe\">\n",
              "  <thead>\n",
              "    <tr style=\"text-align: right;\">\n",
              "      <th></th>\n",
              "      <th>0</th>\n",
              "      <th>1</th>\n",
              "      <th>2</th>\n",
              "      <th>3</th>\n",
              "      <th>4</th>\n",
              "      <th>5</th>\n",
              "      <th>6</th>\n",
              "      <th>7</th>\n",
              "      <th>8</th>\n",
              "      <th>9</th>\n",
              "    </tr>\n",
              "  </thead>\n",
              "  <tbody>\n",
              "    <tr>\n",
              "      <th>26</th>\n",
              "      <td>Whatsapp</td>\n",
              "      <td>Youtube</td>\n",
              "      <td>Twitter</td>\n",
              "      <td>Meet</td>\n",
              "      <td>Zoom</td>\n",
              "      <td>Facebook</td>\n",
              "      <td>None</td>\n",
              "      <td>None</td>\n",
              "      <td>None</td>\n",
              "      <td>None</td>\n",
              "    </tr>\n",
              "    <tr>\n",
              "      <th>27</th>\n",
              "      <td>Whatsapp</td>\n",
              "      <td>Youtube</td>\n",
              "      <td>Meet</td>\n",
              "      <td>Amazon Prime</td>\n",
              "      <td>Instagram</td>\n",
              "      <td>None</td>\n",
              "      <td>None</td>\n",
              "      <td>None</td>\n",
              "      <td>None</td>\n",
              "      <td>None</td>\n",
              "    </tr>\n",
              "    <tr>\n",
              "      <th>28</th>\n",
              "      <td>Whatsapp</td>\n",
              "      <td>Youtube</td>\n",
              "      <td>Meet</td>\n",
              "      <td>SnapChat</td>\n",
              "      <td>Amazon</td>\n",
              "      <td>Amazon Prime</td>\n",
              "      <td>Instagram</td>\n",
              "      <td>None</td>\n",
              "      <td>None</td>\n",
              "      <td>None</td>\n",
              "    </tr>\n",
              "    <tr>\n",
              "      <th>29</th>\n",
              "      <td>Whatsapp</td>\n",
              "      <td>Youtube</td>\n",
              "      <td>Meet</td>\n",
              "      <td>Amazon</td>\n",
              "      <td>Instagram</td>\n",
              "      <td>None</td>\n",
              "      <td>None</td>\n",
              "      <td>None</td>\n",
              "      <td>None</td>\n",
              "      <td>None</td>\n",
              "    </tr>\n",
              "    <tr>\n",
              "      <th>30</th>\n",
              "      <td>Meet</td>\n",
              "      <td>SnapChat</td>\n",
              "      <td>Instagram</td>\n",
              "      <td>Spotify</td>\n",
              "      <td>None</td>\n",
              "      <td>None</td>\n",
              "      <td>None</td>\n",
              "      <td>None</td>\n",
              "      <td>None</td>\n",
              "      <td>None</td>\n",
              "    </tr>\n",
              "  </tbody>\n",
              "</table>\n",
              "</div>"
            ],
            "text/plain": [
              "           0         1          2             3  ...          6     7     8     9\n",
              "26  Whatsapp   Youtube    Twitter          Meet  ...       None  None  None  None\n",
              "27  Whatsapp   Youtube       Meet  Amazon Prime  ...       None  None  None  None\n",
              "28  Whatsapp   Youtube       Meet      SnapChat  ...  Instagram  None  None  None\n",
              "29  Whatsapp   Youtube       Meet        Amazon  ...       None  None  None  None\n",
              "30      Meet  SnapChat  Instagram       Spotify  ...       None  None  None  None\n",
              "\n",
              "[5 rows x 10 columns]"
            ]
          },
          "metadata": {},
          "execution_count": 143
        }
      ]
    },
    {
      "cell_type": "code",
      "metadata": {
        "colab": {
          "base_uri": "https://localhost:8080/"
        },
        "id": "M98NCCT01RGC",
        "outputId": "c36e8c66-73ec-4580-ff59-1d76f623184a"
      },
      "source": [
        "data1.shape"
      ],
      "execution_count": 144,
      "outputs": [
        {
          "output_type": "execute_result",
          "data": {
            "text/plain": [
              "(31, 10)"
            ]
          },
          "metadata": {},
          "execution_count": 144
        }
      ]
    },
    {
      "cell_type": "code",
      "metadata": {
        "colab": {
          "base_uri": "https://localhost:8080/"
        },
        "id": "rn-MXtyu1RK1",
        "outputId": "5e7443da-834e-4c72-82b4-e4a7185186d5"
      },
      "source": [
        "data1.dtypes"
      ],
      "execution_count": 145,
      "outputs": [
        {
          "output_type": "execute_result",
          "data": {
            "text/plain": [
              "0    object\n",
              "1    object\n",
              "2    object\n",
              "3    object\n",
              "4    object\n",
              "5    object\n",
              "6    object\n",
              "7    object\n",
              "8    object\n",
              "9    object\n",
              "dtype: object"
            ]
          },
          "metadata": {},
          "execution_count": 145
        }
      ]
    },
    {
      "cell_type": "code",
      "metadata": {
        "colab": {
          "base_uri": "https://localhost:8080/",
          "height": 1000
        },
        "id": "bIqjkTwr1RPN",
        "outputId": "30350d9e-0fdd-4d11-dc0b-fe1057b45615"
      },
      "source": [
        "data1.isnull()"
      ],
      "execution_count": 146,
      "outputs": [
        {
          "output_type": "execute_result",
          "data": {
            "text/html": [
              "<div>\n",
              "<style scoped>\n",
              "    .dataframe tbody tr th:only-of-type {\n",
              "        vertical-align: middle;\n",
              "    }\n",
              "\n",
              "    .dataframe tbody tr th {\n",
              "        vertical-align: top;\n",
              "    }\n",
              "\n",
              "    .dataframe thead th {\n",
              "        text-align: right;\n",
              "    }\n",
              "</style>\n",
              "<table border=\"1\" class=\"dataframe\">\n",
              "  <thead>\n",
              "    <tr style=\"text-align: right;\">\n",
              "      <th></th>\n",
              "      <th>0</th>\n",
              "      <th>1</th>\n",
              "      <th>2</th>\n",
              "      <th>3</th>\n",
              "      <th>4</th>\n",
              "      <th>5</th>\n",
              "      <th>6</th>\n",
              "      <th>7</th>\n",
              "      <th>8</th>\n",
              "      <th>9</th>\n",
              "    </tr>\n",
              "  </thead>\n",
              "  <tbody>\n",
              "    <tr>\n",
              "      <th>0</th>\n",
              "      <td>False</td>\n",
              "      <td>False</td>\n",
              "      <td>False</td>\n",
              "      <td>False</td>\n",
              "      <td>False</td>\n",
              "      <td>True</td>\n",
              "      <td>True</td>\n",
              "      <td>True</td>\n",
              "      <td>True</td>\n",
              "      <td>True</td>\n",
              "    </tr>\n",
              "    <tr>\n",
              "      <th>1</th>\n",
              "      <td>False</td>\n",
              "      <td>False</td>\n",
              "      <td>False</td>\n",
              "      <td>False</td>\n",
              "      <td>True</td>\n",
              "      <td>True</td>\n",
              "      <td>True</td>\n",
              "      <td>True</td>\n",
              "      <td>True</td>\n",
              "      <td>True</td>\n",
              "    </tr>\n",
              "    <tr>\n",
              "      <th>2</th>\n",
              "      <td>False</td>\n",
              "      <td>False</td>\n",
              "      <td>False</td>\n",
              "      <td>False</td>\n",
              "      <td>False</td>\n",
              "      <td>False</td>\n",
              "      <td>False</td>\n",
              "      <td>False</td>\n",
              "      <td>False</td>\n",
              "      <td>False</td>\n",
              "    </tr>\n",
              "    <tr>\n",
              "      <th>3</th>\n",
              "      <td>False</td>\n",
              "      <td>False</td>\n",
              "      <td>False</td>\n",
              "      <td>True</td>\n",
              "      <td>True</td>\n",
              "      <td>True</td>\n",
              "      <td>True</td>\n",
              "      <td>True</td>\n",
              "      <td>True</td>\n",
              "      <td>True</td>\n",
              "    </tr>\n",
              "    <tr>\n",
              "      <th>4</th>\n",
              "      <td>False</td>\n",
              "      <td>False</td>\n",
              "      <td>False</td>\n",
              "      <td>False</td>\n",
              "      <td>False</td>\n",
              "      <td>True</td>\n",
              "      <td>True</td>\n",
              "      <td>True</td>\n",
              "      <td>True</td>\n",
              "      <td>True</td>\n",
              "    </tr>\n",
              "    <tr>\n",
              "      <th>5</th>\n",
              "      <td>False</td>\n",
              "      <td>False</td>\n",
              "      <td>False</td>\n",
              "      <td>False</td>\n",
              "      <td>False</td>\n",
              "      <td>True</td>\n",
              "      <td>True</td>\n",
              "      <td>True</td>\n",
              "      <td>True</td>\n",
              "      <td>True</td>\n",
              "    </tr>\n",
              "    <tr>\n",
              "      <th>6</th>\n",
              "      <td>False</td>\n",
              "      <td>False</td>\n",
              "      <td>False</td>\n",
              "      <td>False</td>\n",
              "      <td>False</td>\n",
              "      <td>True</td>\n",
              "      <td>True</td>\n",
              "      <td>True</td>\n",
              "      <td>True</td>\n",
              "      <td>True</td>\n",
              "    </tr>\n",
              "    <tr>\n",
              "      <th>7</th>\n",
              "      <td>False</td>\n",
              "      <td>False</td>\n",
              "      <td>False</td>\n",
              "      <td>False</td>\n",
              "      <td>False</td>\n",
              "      <td>False</td>\n",
              "      <td>True</td>\n",
              "      <td>True</td>\n",
              "      <td>True</td>\n",
              "      <td>True</td>\n",
              "    </tr>\n",
              "    <tr>\n",
              "      <th>8</th>\n",
              "      <td>False</td>\n",
              "      <td>False</td>\n",
              "      <td>False</td>\n",
              "      <td>False</td>\n",
              "      <td>False</td>\n",
              "      <td>False</td>\n",
              "      <td>True</td>\n",
              "      <td>True</td>\n",
              "      <td>True</td>\n",
              "      <td>True</td>\n",
              "    </tr>\n",
              "    <tr>\n",
              "      <th>9</th>\n",
              "      <td>False</td>\n",
              "      <td>False</td>\n",
              "      <td>False</td>\n",
              "      <td>False</td>\n",
              "      <td>False</td>\n",
              "      <td>True</td>\n",
              "      <td>True</td>\n",
              "      <td>True</td>\n",
              "      <td>True</td>\n",
              "      <td>True</td>\n",
              "    </tr>\n",
              "    <tr>\n",
              "      <th>10</th>\n",
              "      <td>False</td>\n",
              "      <td>False</td>\n",
              "      <td>False</td>\n",
              "      <td>False</td>\n",
              "      <td>False</td>\n",
              "      <td>True</td>\n",
              "      <td>True</td>\n",
              "      <td>True</td>\n",
              "      <td>True</td>\n",
              "      <td>True</td>\n",
              "    </tr>\n",
              "    <tr>\n",
              "      <th>11</th>\n",
              "      <td>False</td>\n",
              "      <td>False</td>\n",
              "      <td>False</td>\n",
              "      <td>False</td>\n",
              "      <td>False</td>\n",
              "      <td>True</td>\n",
              "      <td>True</td>\n",
              "      <td>True</td>\n",
              "      <td>True</td>\n",
              "      <td>True</td>\n",
              "    </tr>\n",
              "    <tr>\n",
              "      <th>12</th>\n",
              "      <td>False</td>\n",
              "      <td>False</td>\n",
              "      <td>False</td>\n",
              "      <td>False</td>\n",
              "      <td>False</td>\n",
              "      <td>True</td>\n",
              "      <td>True</td>\n",
              "      <td>True</td>\n",
              "      <td>True</td>\n",
              "      <td>True</td>\n",
              "    </tr>\n",
              "    <tr>\n",
              "      <th>13</th>\n",
              "      <td>False</td>\n",
              "      <td>False</td>\n",
              "      <td>False</td>\n",
              "      <td>False</td>\n",
              "      <td>False</td>\n",
              "      <td>True</td>\n",
              "      <td>True</td>\n",
              "      <td>True</td>\n",
              "      <td>True</td>\n",
              "      <td>True</td>\n",
              "    </tr>\n",
              "    <tr>\n",
              "      <th>14</th>\n",
              "      <td>False</td>\n",
              "      <td>False</td>\n",
              "      <td>False</td>\n",
              "      <td>False</td>\n",
              "      <td>False</td>\n",
              "      <td>True</td>\n",
              "      <td>True</td>\n",
              "      <td>True</td>\n",
              "      <td>True</td>\n",
              "      <td>True</td>\n",
              "    </tr>\n",
              "    <tr>\n",
              "      <th>15</th>\n",
              "      <td>False</td>\n",
              "      <td>False</td>\n",
              "      <td>False</td>\n",
              "      <td>False</td>\n",
              "      <td>False</td>\n",
              "      <td>True</td>\n",
              "      <td>True</td>\n",
              "      <td>True</td>\n",
              "      <td>True</td>\n",
              "      <td>True</td>\n",
              "    </tr>\n",
              "    <tr>\n",
              "      <th>16</th>\n",
              "      <td>False</td>\n",
              "      <td>False</td>\n",
              "      <td>False</td>\n",
              "      <td>False</td>\n",
              "      <td>False</td>\n",
              "      <td>True</td>\n",
              "      <td>True</td>\n",
              "      <td>True</td>\n",
              "      <td>True</td>\n",
              "      <td>True</td>\n",
              "    </tr>\n",
              "    <tr>\n",
              "      <th>17</th>\n",
              "      <td>False</td>\n",
              "      <td>False</td>\n",
              "      <td>False</td>\n",
              "      <td>False</td>\n",
              "      <td>False</td>\n",
              "      <td>True</td>\n",
              "      <td>True</td>\n",
              "      <td>True</td>\n",
              "      <td>True</td>\n",
              "      <td>True</td>\n",
              "    </tr>\n",
              "    <tr>\n",
              "      <th>18</th>\n",
              "      <td>False</td>\n",
              "      <td>False</td>\n",
              "      <td>False</td>\n",
              "      <td>False</td>\n",
              "      <td>True</td>\n",
              "      <td>True</td>\n",
              "      <td>True</td>\n",
              "      <td>True</td>\n",
              "      <td>True</td>\n",
              "      <td>True</td>\n",
              "    </tr>\n",
              "    <tr>\n",
              "      <th>19</th>\n",
              "      <td>False</td>\n",
              "      <td>False</td>\n",
              "      <td>False</td>\n",
              "      <td>True</td>\n",
              "      <td>True</td>\n",
              "      <td>True</td>\n",
              "      <td>True</td>\n",
              "      <td>True</td>\n",
              "      <td>True</td>\n",
              "      <td>True</td>\n",
              "    </tr>\n",
              "    <tr>\n",
              "      <th>20</th>\n",
              "      <td>False</td>\n",
              "      <td>False</td>\n",
              "      <td>False</td>\n",
              "      <td>False</td>\n",
              "      <td>False</td>\n",
              "      <td>True</td>\n",
              "      <td>True</td>\n",
              "      <td>True</td>\n",
              "      <td>True</td>\n",
              "      <td>True</td>\n",
              "    </tr>\n",
              "    <tr>\n",
              "      <th>21</th>\n",
              "      <td>False</td>\n",
              "      <td>False</td>\n",
              "      <td>False</td>\n",
              "      <td>False</td>\n",
              "      <td>True</td>\n",
              "      <td>True</td>\n",
              "      <td>True</td>\n",
              "      <td>True</td>\n",
              "      <td>True</td>\n",
              "      <td>True</td>\n",
              "    </tr>\n",
              "    <tr>\n",
              "      <th>22</th>\n",
              "      <td>False</td>\n",
              "      <td>False</td>\n",
              "      <td>False</td>\n",
              "      <td>False</td>\n",
              "      <td>False</td>\n",
              "      <td>True</td>\n",
              "      <td>True</td>\n",
              "      <td>True</td>\n",
              "      <td>True</td>\n",
              "      <td>True</td>\n",
              "    </tr>\n",
              "    <tr>\n",
              "      <th>23</th>\n",
              "      <td>False</td>\n",
              "      <td>False</td>\n",
              "      <td>False</td>\n",
              "      <td>False</td>\n",
              "      <td>True</td>\n",
              "      <td>True</td>\n",
              "      <td>True</td>\n",
              "      <td>True</td>\n",
              "      <td>True</td>\n",
              "      <td>True</td>\n",
              "    </tr>\n",
              "    <tr>\n",
              "      <th>24</th>\n",
              "      <td>False</td>\n",
              "      <td>False</td>\n",
              "      <td>False</td>\n",
              "      <td>False</td>\n",
              "      <td>False</td>\n",
              "      <td>True</td>\n",
              "      <td>True</td>\n",
              "      <td>True</td>\n",
              "      <td>True</td>\n",
              "      <td>True</td>\n",
              "    </tr>\n",
              "    <tr>\n",
              "      <th>25</th>\n",
              "      <td>False</td>\n",
              "      <td>False</td>\n",
              "      <td>False</td>\n",
              "      <td>False</td>\n",
              "      <td>False</td>\n",
              "      <td>True</td>\n",
              "      <td>True</td>\n",
              "      <td>True</td>\n",
              "      <td>True</td>\n",
              "      <td>True</td>\n",
              "    </tr>\n",
              "    <tr>\n",
              "      <th>26</th>\n",
              "      <td>False</td>\n",
              "      <td>False</td>\n",
              "      <td>False</td>\n",
              "      <td>False</td>\n",
              "      <td>False</td>\n",
              "      <td>False</td>\n",
              "      <td>True</td>\n",
              "      <td>True</td>\n",
              "      <td>True</td>\n",
              "      <td>True</td>\n",
              "    </tr>\n",
              "    <tr>\n",
              "      <th>27</th>\n",
              "      <td>False</td>\n",
              "      <td>False</td>\n",
              "      <td>False</td>\n",
              "      <td>False</td>\n",
              "      <td>False</td>\n",
              "      <td>True</td>\n",
              "      <td>True</td>\n",
              "      <td>True</td>\n",
              "      <td>True</td>\n",
              "      <td>True</td>\n",
              "    </tr>\n",
              "    <tr>\n",
              "      <th>28</th>\n",
              "      <td>False</td>\n",
              "      <td>False</td>\n",
              "      <td>False</td>\n",
              "      <td>False</td>\n",
              "      <td>False</td>\n",
              "      <td>False</td>\n",
              "      <td>False</td>\n",
              "      <td>True</td>\n",
              "      <td>True</td>\n",
              "      <td>True</td>\n",
              "    </tr>\n",
              "    <tr>\n",
              "      <th>29</th>\n",
              "      <td>False</td>\n",
              "      <td>False</td>\n",
              "      <td>False</td>\n",
              "      <td>False</td>\n",
              "      <td>False</td>\n",
              "      <td>True</td>\n",
              "      <td>True</td>\n",
              "      <td>True</td>\n",
              "      <td>True</td>\n",
              "      <td>True</td>\n",
              "    </tr>\n",
              "    <tr>\n",
              "      <th>30</th>\n",
              "      <td>False</td>\n",
              "      <td>False</td>\n",
              "      <td>False</td>\n",
              "      <td>False</td>\n",
              "      <td>True</td>\n",
              "      <td>True</td>\n",
              "      <td>True</td>\n",
              "      <td>True</td>\n",
              "      <td>True</td>\n",
              "      <td>True</td>\n",
              "    </tr>\n",
              "  </tbody>\n",
              "</table>\n",
              "</div>"
            ],
            "text/plain": [
              "        0      1      2      3      4      5      6      7      8      9\n",
              "0   False  False  False  False  False   True   True   True   True   True\n",
              "1   False  False  False  False   True   True   True   True   True   True\n",
              "2   False  False  False  False  False  False  False  False  False  False\n",
              "3   False  False  False   True   True   True   True   True   True   True\n",
              "4   False  False  False  False  False   True   True   True   True   True\n",
              "5   False  False  False  False  False   True   True   True   True   True\n",
              "6   False  False  False  False  False   True   True   True   True   True\n",
              "7   False  False  False  False  False  False   True   True   True   True\n",
              "8   False  False  False  False  False  False   True   True   True   True\n",
              "9   False  False  False  False  False   True   True   True   True   True\n",
              "10  False  False  False  False  False   True   True   True   True   True\n",
              "11  False  False  False  False  False   True   True   True   True   True\n",
              "12  False  False  False  False  False   True   True   True   True   True\n",
              "13  False  False  False  False  False   True   True   True   True   True\n",
              "14  False  False  False  False  False   True   True   True   True   True\n",
              "15  False  False  False  False  False   True   True   True   True   True\n",
              "16  False  False  False  False  False   True   True   True   True   True\n",
              "17  False  False  False  False  False   True   True   True   True   True\n",
              "18  False  False  False  False   True   True   True   True   True   True\n",
              "19  False  False  False   True   True   True   True   True   True   True\n",
              "20  False  False  False  False  False   True   True   True   True   True\n",
              "21  False  False  False  False   True   True   True   True   True   True\n",
              "22  False  False  False  False  False   True   True   True   True   True\n",
              "23  False  False  False  False   True   True   True   True   True   True\n",
              "24  False  False  False  False  False   True   True   True   True   True\n",
              "25  False  False  False  False  False   True   True   True   True   True\n",
              "26  False  False  False  False  False  False   True   True   True   True\n",
              "27  False  False  False  False  False   True   True   True   True   True\n",
              "28  False  False  False  False  False  False  False   True   True   True\n",
              "29  False  False  False  False  False   True   True   True   True   True\n",
              "30  False  False  False  False   True   True   True   True   True   True"
            ]
          },
          "metadata": {},
          "execution_count": 146
        }
      ]
    },
    {
      "cell_type": "code",
      "metadata": {
        "colab": {
          "base_uri": "https://localhost:8080/"
        },
        "id": "W-Naql8-cFLe",
        "outputId": "8904296c-dd0e-4003-8a56-6120402b7846"
      },
      "source": [
        "data1.info()"
      ],
      "execution_count": 147,
      "outputs": [
        {
          "output_type": "stream",
          "text": [
            "<class 'pandas.core.frame.DataFrame'>\n",
            "RangeIndex: 31 entries, 0 to 30\n",
            "Data columns (total 10 columns):\n",
            " #   Column  Non-Null Count  Dtype \n",
            "---  ------  --------------  ----- \n",
            " 0   0       31 non-null     object\n",
            " 1   1       31 non-null     object\n",
            " 2   2       31 non-null     object\n",
            " 3   3       29 non-null     object\n",
            " 4   4       24 non-null     object\n",
            " 5   5       5 non-null      object\n",
            " 6   6       2 non-null      object\n",
            " 7   7       1 non-null      object\n",
            " 8   8       1 non-null      object\n",
            " 9   9       1 non-null      object\n",
            "dtypes: object(10)\n",
            "memory usage: 2.5+ KB\n"
          ],
          "name": "stdout"
        }
      ]
    },
    {
      "cell_type": "markdown",
      "metadata": {
        "id": "2L2ar3NgjAb5"
      },
      "source": [
        "##Exporting DataFrame To Csv File"
      ]
    },
    {
      "cell_type": "code",
      "metadata": {
        "id": "2OOxfh6KYzZy"
      },
      "source": [
        "data1.to_csv('apps_dataset.csv',header=None,index=False)"
      ],
      "execution_count": 148,
      "outputs": []
    },
    {
      "cell_type": "markdown",
      "metadata": {
        "id": "Bo1O1xpFjMKr"
      },
      "source": [
        "##Data Preprocesssing"
      ]
    },
    {
      "cell_type": "code",
      "metadata": {
        "id": "8BC8CNfji_Uy"
      },
      "source": [
        "dataset = pd.read_csv('/content/apps_dataset.csv', header = None)\n",
        "transactions = []\n",
        "for i in range(0, 31):\n",
        "  transactions.append([str(dataset.values[i,j]) for j in range(0, 10)])"
      ],
      "execution_count": 149,
      "outputs": []
    },
    {
      "cell_type": "markdown",
      "metadata": {
        "id": "jcJ3nOzPnje_"
      },
      "source": [
        "## Training the Apriori model on the dataset"
      ]
    },
    {
      "cell_type": "code",
      "metadata": {
        "colab": {
          "base_uri": "https://localhost:8080/"
        },
        "id": "oRvWBdf04WNb",
        "outputId": "4d476075-89b6-4e9f-deca-c71f05950840"
      },
      "source": [
        "from google.colab import drive\n",
        "drive.mount('/content/drive')"
      ],
      "execution_count": 151,
      "outputs": [
        {
          "output_type": "stream",
          "text": [
            "Drive already mounted at /content/drive; to attempt to forcibly remount, call drive.mount(\"/content/drive\", force_remount=True).\n"
          ],
          "name": "stdout"
        }
      ]
    },
    {
      "cell_type": "code",
      "metadata": {
        "colab": {
          "base_uri": "https://localhost:8080/"
        },
        "id": "zHWLeEyHufnc",
        "outputId": "644da245-0a29-4b6a-d475-cd5406b72c0f"
      },
      "source": [
        "!pip install apyori"
      ],
      "execution_count": 152,
      "outputs": [
        {
          "output_type": "stream",
          "text": [
            "Requirement already satisfied: apyori in /usr/local/lib/python3.7/dist-packages (1.1.2)\n"
          ],
          "name": "stdout"
        }
      ]
    },
    {
      "cell_type": "code",
      "metadata": {
        "id": "pt4h08WRiGgh"
      },
      "source": [
        "from apyori import apriori\n",
        "rules = apriori(transactions=transactions, min_support = 0.03, min_confidence = 0.2, min_lift = 2, min_length = 2, max_length = 2)"
      ],
      "execution_count": 198,
      "outputs": []
    },
    {
      "cell_type": "markdown",
      "metadata": {
        "id": "szZmoIHovDrd"
      },
      "source": [
        "## Visualising the results"
      ]
    },
    {
      "cell_type": "markdown",
      "metadata": {
        "id": "zY3JEnNJvFPq"
      },
      "source": [
        "### Displaying the first results coming directly from the output of the apriori function"
      ]
    },
    {
      "cell_type": "code",
      "metadata": {
        "id": "D83VrdEtkFDa"
      },
      "source": [
        "results=list(rules)"
      ],
      "execution_count": 199,
      "outputs": []
    },
    {
      "cell_type": "code",
      "metadata": {
        "colab": {
          "base_uri": "https://localhost:8080/"
        },
        "id": "goKsSQh9iGjC",
        "outputId": "ee9d6e59-d048-4b42-92c1-c5f0f7a50af3"
      },
      "source": [
        "results"
      ],
      "execution_count": 200,
      "outputs": [
        {
          "output_type": "execute_result",
          "data": {
            "text/plain": [
              "[RelationRecord(items=frozenset({'Amazon', 'Hotstar'}), support=0.03225806451612903, ordered_statistics=[OrderedStatistic(items_base=frozenset({'Hotstar'}), items_add=frozenset({'Amazon'}), confidence=1.0, lift=3.875)]),\n",
              " RelationRecord(items=frozenset({'Facebook', 'Amazon Prime'}), support=0.06451612903225806, ordered_statistics=[OrderedStatistic(items_base=frozenset({'Amazon Prime'}), items_add=frozenset({'Facebook'}), confidence=0.4, lift=2.066666666666667), OrderedStatistic(items_base=frozenset({'Facebook'}), items_add=frozenset({'Amazon Prime'}), confidence=0.3333333333333333, lift=2.0666666666666664)]),\n",
              " RelationRecord(items=frozenset({'Wynk', 'Facebook'}), support=0.03225806451612903, ordered_statistics=[OrderedStatistic(items_base=frozenset({'Wynk'}), items_add=frozenset({'Facebook'}), confidence=1.0, lift=5.166666666666667)]),\n",
              " RelationRecord(items=frozenset({'Zoom', 'Facebook'}), support=0.06451612903225806, ordered_statistics=[OrderedStatistic(items_base=frozenset({'Facebook'}), items_add=frozenset({'Zoom'}), confidence=0.3333333333333333, lift=2.5833333333333335), OrderedStatistic(items_base=frozenset({'Zoom'}), items_add=frozenset({'Facebook'}), confidence=0.5, lift=2.5833333333333335)]),\n",
              " RelationRecord(items=frozenset({'Hotstar', 'Zoom'}), support=0.03225806451612903, ordered_statistics=[OrderedStatistic(items_base=frozenset({'Hotstar'}), items_add=frozenset({'Zoom'}), confidence=1.0, lift=7.75), OrderedStatistic(items_base=frozenset({'Zoom'}), items_add=frozenset({'Hotstar'}), confidence=0.25, lift=7.75)]),\n",
              " RelationRecord(items=frozenset({'Twitter', 'Pinterest'}), support=0.03225806451612903, ordered_statistics=[OrderedStatistic(items_base=frozenset({'Pinterest'}), items_add=frozenset({'Twitter'}), confidence=0.5, lift=3.1), OrderedStatistic(items_base=frozenset({'Twitter'}), items_add=frozenset({'Pinterest'}), confidence=0.2, lift=3.1)])]"
            ]
          },
          "metadata": {},
          "execution_count": 200
        }
      ]
    },
    {
      "cell_type": "markdown",
      "metadata": {
        "id": "A5mWhUHOz8k8"
      },
      "source": [
        "### Putting the results well organised into a Pandas DataFrame"
      ]
    },
    {
      "cell_type": "code",
      "metadata": {
        "id": "t-WH4XsWiGl5"
      },
      "source": [
        "def inspect(results):\n",
        "    App1         = [tuple(result[2][0][0])[0] for result in results]\n",
        "    App2         = [tuple(result[2][0][1])[0] for result in results]\n",
        "    Supports    = [result[1] for result in results]\n",
        "    Confidences = [result[2][0][2] for result in results]\n",
        "    Lifts       = [result[2][0][3] for result in results]\n",
        "    return list(zip(App1, App2,Supports, Confidences, Lifts))\n",
        "resultsinDataFrame = pd.DataFrame(inspect(results), columns = ['App 1', 'App 2', 'Support', 'Confidence', 'Lift'])"
      ],
      "execution_count": 201,
      "outputs": []
    },
    {
      "cell_type": "code",
      "metadata": {
        "colab": {
          "base_uri": "https://localhost:8080/",
          "height": 238
        },
        "id": "O5BUyAyQiGog",
        "outputId": "6bd7df12-91f5-4ef9-e20b-4df9f32a67de"
      },
      "source": [
        "resultsinDataFrame"
      ],
      "execution_count": 203,
      "outputs": [
        {
          "output_type": "execute_result",
          "data": {
            "text/html": [
              "<div>\n",
              "<style scoped>\n",
              "    .dataframe tbody tr th:only-of-type {\n",
              "        vertical-align: middle;\n",
              "    }\n",
              "\n",
              "    .dataframe tbody tr th {\n",
              "        vertical-align: top;\n",
              "    }\n",
              "\n",
              "    .dataframe thead th {\n",
              "        text-align: right;\n",
              "    }\n",
              "</style>\n",
              "<table border=\"1\" class=\"dataframe\">\n",
              "  <thead>\n",
              "    <tr style=\"text-align: right;\">\n",
              "      <th></th>\n",
              "      <th>App 1</th>\n",
              "      <th>App 2</th>\n",
              "      <th>Support</th>\n",
              "      <th>Confidence</th>\n",
              "      <th>Lift</th>\n",
              "    </tr>\n",
              "  </thead>\n",
              "  <tbody>\n",
              "    <tr>\n",
              "      <th>0</th>\n",
              "      <td>Hotstar</td>\n",
              "      <td>Amazon</td>\n",
              "      <td>0.032258</td>\n",
              "      <td>1.000000</td>\n",
              "      <td>3.875000</td>\n",
              "    </tr>\n",
              "    <tr>\n",
              "      <th>1</th>\n",
              "      <td>Amazon Prime</td>\n",
              "      <td>Facebook</td>\n",
              "      <td>0.064516</td>\n",
              "      <td>0.400000</td>\n",
              "      <td>2.066667</td>\n",
              "    </tr>\n",
              "    <tr>\n",
              "      <th>2</th>\n",
              "      <td>Wynk</td>\n",
              "      <td>Facebook</td>\n",
              "      <td>0.032258</td>\n",
              "      <td>1.000000</td>\n",
              "      <td>5.166667</td>\n",
              "    </tr>\n",
              "    <tr>\n",
              "      <th>3</th>\n",
              "      <td>Facebook</td>\n",
              "      <td>Zoom</td>\n",
              "      <td>0.064516</td>\n",
              "      <td>0.333333</td>\n",
              "      <td>2.583333</td>\n",
              "    </tr>\n",
              "    <tr>\n",
              "      <th>4</th>\n",
              "      <td>Hotstar</td>\n",
              "      <td>Zoom</td>\n",
              "      <td>0.032258</td>\n",
              "      <td>1.000000</td>\n",
              "      <td>7.750000</td>\n",
              "    </tr>\n",
              "    <tr>\n",
              "      <th>5</th>\n",
              "      <td>Pinterest</td>\n",
              "      <td>Twitter</td>\n",
              "      <td>0.032258</td>\n",
              "      <td>0.500000</td>\n",
              "      <td>3.100000</td>\n",
              "    </tr>\n",
              "  </tbody>\n",
              "</table>\n",
              "</div>"
            ],
            "text/plain": [
              "          App 1     App 2   Support  Confidence      Lift\n",
              "0       Hotstar    Amazon  0.032258    1.000000  3.875000\n",
              "1  Amazon Prime  Facebook  0.064516    0.400000  2.066667\n",
              "2          Wynk  Facebook  0.032258    1.000000  5.166667\n",
              "3      Facebook      Zoom  0.064516    0.333333  2.583333\n",
              "4       Hotstar      Zoom  0.032258    1.000000  7.750000\n",
              "5     Pinterest   Twitter  0.032258    0.500000  3.100000"
            ]
          },
          "metadata": {},
          "execution_count": 203
        }
      ]
    },
    {
      "cell_type": "code",
      "metadata": {
        "colab": {
          "base_uri": "https://localhost:8080/",
          "height": 238
        },
        "id": "RQigOnVBiGrG",
        "outputId": "c3ef3bb3-d5eb-4168-c87a-f69cf0bf18c6"
      },
      "source": [
        "resultsinDataFrame.nlargest(n = 10, columns = 'Lift')"
      ],
      "execution_count": 204,
      "outputs": [
        {
          "output_type": "execute_result",
          "data": {
            "text/html": [
              "<div>\n",
              "<style scoped>\n",
              "    .dataframe tbody tr th:only-of-type {\n",
              "        vertical-align: middle;\n",
              "    }\n",
              "\n",
              "    .dataframe tbody tr th {\n",
              "        vertical-align: top;\n",
              "    }\n",
              "\n",
              "    .dataframe thead th {\n",
              "        text-align: right;\n",
              "    }\n",
              "</style>\n",
              "<table border=\"1\" class=\"dataframe\">\n",
              "  <thead>\n",
              "    <tr style=\"text-align: right;\">\n",
              "      <th></th>\n",
              "      <th>App 1</th>\n",
              "      <th>App 2</th>\n",
              "      <th>Support</th>\n",
              "      <th>Confidence</th>\n",
              "      <th>Lift</th>\n",
              "    </tr>\n",
              "  </thead>\n",
              "  <tbody>\n",
              "    <tr>\n",
              "      <th>4</th>\n",
              "      <td>Hotstar</td>\n",
              "      <td>Zoom</td>\n",
              "      <td>0.032258</td>\n",
              "      <td>1.000000</td>\n",
              "      <td>7.750000</td>\n",
              "    </tr>\n",
              "    <tr>\n",
              "      <th>2</th>\n",
              "      <td>Wynk</td>\n",
              "      <td>Facebook</td>\n",
              "      <td>0.032258</td>\n",
              "      <td>1.000000</td>\n",
              "      <td>5.166667</td>\n",
              "    </tr>\n",
              "    <tr>\n",
              "      <th>0</th>\n",
              "      <td>Hotstar</td>\n",
              "      <td>Amazon</td>\n",
              "      <td>0.032258</td>\n",
              "      <td>1.000000</td>\n",
              "      <td>3.875000</td>\n",
              "    </tr>\n",
              "    <tr>\n",
              "      <th>5</th>\n",
              "      <td>Pinterest</td>\n",
              "      <td>Twitter</td>\n",
              "      <td>0.032258</td>\n",
              "      <td>0.500000</td>\n",
              "      <td>3.100000</td>\n",
              "    </tr>\n",
              "    <tr>\n",
              "      <th>3</th>\n",
              "      <td>Facebook</td>\n",
              "      <td>Zoom</td>\n",
              "      <td>0.064516</td>\n",
              "      <td>0.333333</td>\n",
              "      <td>2.583333</td>\n",
              "    </tr>\n",
              "    <tr>\n",
              "      <th>1</th>\n",
              "      <td>Amazon Prime</td>\n",
              "      <td>Facebook</td>\n",
              "      <td>0.064516</td>\n",
              "      <td>0.400000</td>\n",
              "      <td>2.066667</td>\n",
              "    </tr>\n",
              "  </tbody>\n",
              "</table>\n",
              "</div>"
            ],
            "text/plain": [
              "          App 1     App 2   Support  Confidence      Lift\n",
              "4       Hotstar      Zoom  0.032258    1.000000  7.750000\n",
              "2          Wynk  Facebook  0.032258    1.000000  5.166667\n",
              "0       Hotstar    Amazon  0.032258    1.000000  3.875000\n",
              "5     Pinterest   Twitter  0.032258    0.500000  3.100000\n",
              "3      Facebook      Zoom  0.064516    0.333333  2.583333\n",
              "1  Amazon Prime  Facebook  0.064516    0.400000  2.066667"
            ]
          },
          "metadata": {},
          "execution_count": 204
        }
      ]
    },
    {
      "cell_type": "markdown",
      "metadata": {
        "id": "NSkSaB3-TyTi"
      },
      "source": [
        "##Conclusion"
      ]
    },
    {
      "cell_type": "code",
      "metadata": {
        "id": "nEcezkZtCa6v"
      },
      "source": [
        "final = resultsinDataFrame.rename({'App 1':'App1','App 2':'App2'}, axis=1)"
      ],
      "execution_count": 209,
      "outputs": []
    },
    {
      "cell_type": "code",
      "metadata": {
        "colab": {
          "base_uri": "https://localhost:8080/",
          "height": 238
        },
        "id": "DffeiSuyJhNM",
        "outputId": "31f17c64-339d-4b6d-9280-ce41b79e158c"
      },
      "source": [
        "final"
      ],
      "execution_count": 210,
      "outputs": [
        {
          "output_type": "execute_result",
          "data": {
            "text/html": [
              "<div>\n",
              "<style scoped>\n",
              "    .dataframe tbody tr th:only-of-type {\n",
              "        vertical-align: middle;\n",
              "    }\n",
              "\n",
              "    .dataframe tbody tr th {\n",
              "        vertical-align: top;\n",
              "    }\n",
              "\n",
              "    .dataframe thead th {\n",
              "        text-align: right;\n",
              "    }\n",
              "</style>\n",
              "<table border=\"1\" class=\"dataframe\">\n",
              "  <thead>\n",
              "    <tr style=\"text-align: right;\">\n",
              "      <th></th>\n",
              "      <th>App1</th>\n",
              "      <th>App2</th>\n",
              "      <th>Support</th>\n",
              "      <th>Confidence</th>\n",
              "      <th>Lift</th>\n",
              "    </tr>\n",
              "  </thead>\n",
              "  <tbody>\n",
              "    <tr>\n",
              "      <th>0</th>\n",
              "      <td>Hotstar</td>\n",
              "      <td>Amazon</td>\n",
              "      <td>0.032258</td>\n",
              "      <td>1.000000</td>\n",
              "      <td>3.875000</td>\n",
              "    </tr>\n",
              "    <tr>\n",
              "      <th>1</th>\n",
              "      <td>Amazon Prime</td>\n",
              "      <td>Facebook</td>\n",
              "      <td>0.064516</td>\n",
              "      <td>0.400000</td>\n",
              "      <td>2.066667</td>\n",
              "    </tr>\n",
              "    <tr>\n",
              "      <th>2</th>\n",
              "      <td>Wynk</td>\n",
              "      <td>Facebook</td>\n",
              "      <td>0.032258</td>\n",
              "      <td>1.000000</td>\n",
              "      <td>5.166667</td>\n",
              "    </tr>\n",
              "    <tr>\n",
              "      <th>3</th>\n",
              "      <td>Facebook</td>\n",
              "      <td>Zoom</td>\n",
              "      <td>0.064516</td>\n",
              "      <td>0.333333</td>\n",
              "      <td>2.583333</td>\n",
              "    </tr>\n",
              "    <tr>\n",
              "      <th>4</th>\n",
              "      <td>Hotstar</td>\n",
              "      <td>Zoom</td>\n",
              "      <td>0.032258</td>\n",
              "      <td>1.000000</td>\n",
              "      <td>7.750000</td>\n",
              "    </tr>\n",
              "    <tr>\n",
              "      <th>5</th>\n",
              "      <td>Pinterest</td>\n",
              "      <td>Twitter</td>\n",
              "      <td>0.032258</td>\n",
              "      <td>0.500000</td>\n",
              "      <td>3.100000</td>\n",
              "    </tr>\n",
              "  </tbody>\n",
              "</table>\n",
              "</div>"
            ],
            "text/plain": [
              "           App1      App2   Support  Confidence      Lift\n",
              "0       Hotstar    Amazon  0.032258    1.000000  3.875000\n",
              "1  Amazon Prime  Facebook  0.064516    0.400000  2.066667\n",
              "2          Wynk  Facebook  0.032258    1.000000  5.166667\n",
              "3      Facebook      Zoom  0.064516    0.333333  2.583333\n",
              "4       Hotstar      Zoom  0.032258    1.000000  7.750000\n",
              "5     Pinterest   Twitter  0.032258    0.500000  3.100000"
            ]
          },
          "metadata": {},
          "execution_count": 210
        }
      ]
    },
    {
      "cell_type": "code",
      "metadata": {
        "colab": {
          "base_uri": "https://localhost:8080/",
          "height": 614
        },
        "id": "XT-s87SISZqK",
        "outputId": "a1af99c3-2ff2-491c-9298-cd1c263d1943"
      },
      "source": [
        "plt.figure(figsize=(10,10))\n",
        "sns.heatmap(data=final.corr(), annot=True, cmap='copper_r')"
      ],
      "execution_count": 239,
      "outputs": [
        {
          "output_type": "execute_result",
          "data": {
            "text/plain": [
              "<matplotlib.axes._subplots.AxesSubplot at 0x7ffad7c08850>"
            ]
          },
          "metadata": {},
          "execution_count": 239
        },
        {
          "output_type": "display_data",
          "data": {
            "image/png": "[encoded data removed]",
            "text/plain": [
              "<Figure size 720x720 with 2 Axes>"
            ]
          },
          "metadata": {
            "needs_background": "light"
          }
        }
      ]
    },
    {
      "cell_type": "code",
      "metadata": {
        "colab": {
          "base_uri": "https://localhost:8080/",
          "height": 313
        },
        "id": "3k00_WW6K1XH",
        "outputId": "fad39575-f597-483b-8722-310f1d44ce9a"
      },
      "source": [
        "plt.scatter(final.App1,final.App2)\n",
        "plt.xlabel('App 1')\n",
        "plt.ylabel('App 2')\n",
        "plt.title('App Recommended')"
      ],
      "execution_count": 242,
      "outputs": [
        {
          "output_type": "execute_result",
          "data": {
            "text/plain": [
              "Text(0.5, 1.0, 'App Recommended')"
            ]
          },
          "metadata": {},
          "execution_count": 242
        },
        {
          "output_type": "display_data",
          "data": {
            "image/png": "[encoded data removed]",
            "text/plain": [
              "<Figure size 432x288 with 1 Axes>"
            ]
          },
          "metadata": {
            "needs_background": "light"
          }
        }
      ]
    }
  ]
}